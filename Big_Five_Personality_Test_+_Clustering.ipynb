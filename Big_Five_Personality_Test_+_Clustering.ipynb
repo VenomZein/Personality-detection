{
  "cells": [
    {
      "source": [
        "\n",
        "# IMPORTANT: RUN THIS CELL IN ORDER TO IMPORT YOUR KAGGLE DATA SOURCES\n",
        "# TO THE CORRECT LOCATION IN YOUR NOTEBOOK,\n",
        "# THEN FEEL FREE TO DELETE THIS CELL.\n",
        "\n",
        "import os\n",
        "import sys\n",
        "from tempfile import NamedTemporaryFile\n",
        "from urllib.request import urlopen\n",
        "from urllib.parse import unquote, urlparse\n",
        "from urllib.error import HTTPError\n",
        "from zipfile import ZipFile\n",
        "import tarfile\n",
        "import shutil\n",
        "\n",
        "CHUNK_SIZE = 40960\n",
        "DATA_SOURCE_MAPPING = 'country-mapping-iso-continent-region:https%3A%2F%2Fstorage.googleapis.com%2Fkaggle-data-sets%2F446379%2F844964%2Fbundle%2Farchive.zip%3FX-Goog-Algorithm%3DGOOG4-RSA-SHA256%26X-Goog-Credential%3Dgcp-kaggle-com%2540kaggle-161607.iam.gserviceaccount.com%252F20240317%252Fauto%252Fstorage%252Fgoog4_request%26X-Goog-Date%3D20240317T214934Z%26X-Goog-Expires%3D259200%26X-Goog-SignedHeaders%3Dhost%26X-Goog-Signature%3D9b49d248ca2368c23afb572f1733c5d8156093df53df75591ee6dca562d287c19aadb9834789253e4624183875f523b2db3f5558915e0833d4335548d1c10e4021260b77495db9bd22f0ad7f0b19d8587ec46e7648c997c77ac75ff5502747abd298f8bae95bf9a30ffc9cbd4bdbb1204e11544c7296f1359aae1e939a43cdc7bd25ee25e24ed4498f14d851567b324db96f095851f98d01479403964803512f3308218ff9fe6500c5773918fd5fa6aaf2babfedba5d91e16c2689cf35ac41065937b70e638c2c8477df8b25c3b889a6242abdefbcf0096ab485958ab25a8c8cdc50cd26ddc1e5428a2adc063688fb1a89438b3ee264282a7450084e2b8a0dc7,big-five-personality-test:https%3A%2F%2Fstorage.googleapis.com%2Fkaggle-data-sets%2F516764%2F951745%2Fbundle%2Farchive.zip%3FX-Goog-Algorithm%3DGOOG4-RSA-SHA256%26X-Goog-Credential%3Dgcp-kaggle-com%2540kaggle-161607.iam.gserviceaccount.com%252F20240317%252Fauto%252Fstorage%252Fgoog4_request%26X-Goog-Date%3D20240317T214934Z%26X-Goog-Expires%3D259200%26X-Goog-SignedHeaders%3Dhost%26X-Goog-Signature%3Da3c57ea97b870e52e6a5d80814d2cda98fa2b1d8847e782d3b08650c9cc7fab4ac1044e74e46861e82d688ee174060194d21755de4fd428aa758544072165bf2bdd196939f46720f03b3b8278fb58d720c7a49856208e68dcbb4182b25d5f2deda7afb567731548e76b8b8ba5291b201675e9f33c611eec6fc9f9d288411c0b30ef2bc44443f4c231f88ba83dcfbcdf8884b46f02e773243f3bd8fcd627c1cac34d24f486fafc8c78200e668b3076e3ff4d6877a0b78c9f5c178df9aae90c7cf847a3b44d40c05641e7d0d7b3c3ad1ce3f1b4867593055c2e6b07142bdd3ebfdfcb558569bf809fdb5d065859114e9f16f115a31b547fecfa9b8ec57b108ed13'\n",
        "\n",
        "KAGGLE_INPUT_PATH='/kaggle/input'\n",
        "KAGGLE_WORKING_PATH='/kaggle/working'\n",
        "KAGGLE_SYMLINK='kaggle'\n",
        "\n",
        "!umount /kaggle/input/ 2> /dev/null\n",
        "shutil.rmtree('/kaggle/input', ignore_errors=True)\n",
        "os.makedirs(KAGGLE_INPUT_PATH, 0o777, exist_ok=True)\n",
        "os.makedirs(KAGGLE_WORKING_PATH, 0o777, exist_ok=True)\n",
        "\n",
        "try:\n",
        "  os.symlink(KAGGLE_INPUT_PATH, os.path.join(\"..\", 'input'), target_is_directory=True)\n",
        "except FileExistsError:\n",
        "  pass\n",
        "try:\n",
        "  os.symlink(KAGGLE_WORKING_PATH, os.path.join(\"..\", 'working'), target_is_directory=True)\n",
        "except FileExistsError:\n",
        "  pass\n",
        "\n",
        "for data_source_mapping in DATA_SOURCE_MAPPING.split(','):\n",
        "    directory, download_url_encoded = data_source_mapping.split(':')\n",
        "    download_url = unquote(download_url_encoded)\n",
        "    filename = urlparse(download_url).path\n",
        "    destination_path = os.path.join(KAGGLE_INPUT_PATH, directory)\n",
        "    try:\n",
        "        with urlopen(download_url) as fileres, NamedTemporaryFile() as tfile:\n",
        "            total_length = fileres.headers['content-length']\n",
        "            print(f'Downloading {directory}, {total_length} bytes compressed')\n",
        "            dl = 0\n",
        "            data = fileres.read(CHUNK_SIZE)\n",
        "            while len(data) > 0:\n",
        "                dl += len(data)\n",
        "                tfile.write(data)\n",
        "                done = int(50 * dl / int(total_length))\n",
        "                sys.stdout.write(f\"\\r[{'=' * done}{' ' * (50-done)}] {dl} bytes downloaded\")\n",
        "                sys.stdout.flush()\n",
        "                data = fileres.read(CHUNK_SIZE)\n",
        "            if filename.endswith('.zip'):\n",
        "              with ZipFile(tfile) as zfile:\n",
        "                zfile.extractall(destination_path)\n",
        "            else:\n",
        "              with tarfile.open(tfile.name) as tarfile:\n",
        "                tarfile.extractall(destination_path)\n",
        "            print(f'\\nDownloaded and uncompressed: {directory}')\n",
        "    except HTTPError as e:\n",
        "        print(f'Failed to load (likely expired) {download_url} to path {destination_path}')\n",
        "        continue\n",
        "    except OSError as e:\n",
        "        print(f'Failed to load {download_url} to path {destination_path}')\n",
        "        continue\n",
        "\n",
        "print('Data source import complete.')\n"
      ],
      "metadata": {
        "id": "daCH1DPcZD_L"
      },
      "cell_type": "code",
      "outputs": [],
      "execution_count": null
    },
    {
      "metadata": {
        "papermill": {
          "duration": 0.044729,
          "end_time": "2021-03-24T10:07:24.885276",
          "exception": false,
          "start_time": "2021-03-24T10:07:24.840547",
          "status": "completed"
        },
        "tags": [],
        "id": "RdGU_SNJZD_R"
      },
      "cell_type": "markdown",
      "source": [
        "<center>\n",
        "    \n",
        "#     Big Five Personality Test\n",
        ""
      ]
    },
    {
      "metadata": {
        "papermill": {
          "duration": 0.039558,
          "end_time": "2021-03-24T10:07:24.964714",
          "exception": false,
          "start_time": "2021-03-24T10:07:24.925156",
          "status": "completed"
        },
        "tags": [],
        "id": "1TruZHFiZD_U"
      },
      "cell_type": "markdown",
      "source": [
        "<center>\n",
        "<img src='https://blog.adioma.com/wp-content/uploads/2018/11/big-five-personality-traits-infographic.png' width='500'>"
      ]
    },
    {
      "metadata": {
        "papermill": {
          "duration": 0.039837,
          "end_time": "2021-03-24T10:07:25.044564",
          "exception": false,
          "start_time": "2021-03-24T10:07:25.004727",
          "status": "completed"
        },
        "tags": [],
        "id": "HRhQ9JXSZD_V"
      },
      "cell_type": "markdown",
      "source": [
        "* 1. What is the Big Five personality test used for?\n",
        "* 2. Big Five personality traits\n",
        "\n",
        "    * 2.1. Q&As Related to Extroversion Personality\n",
        "    * 2.2. Q&As Related to Neuroticism Personality\n",
        "    * 2.3. Q&As Related to Agreeable Personality\n",
        "    * 2.4. Q&As Related to Conscientious Personality\n",
        "    * 2.5. Q&As Related to Open Personality\n",
        "    \n",
        "    \n",
        "* 3. The Big Five Personality Test in across Countries\n",
        "\n",
        "    * 3.1. Extroversion Personality\n",
        "    * 3.2. Neuroticism Personality\n",
        "    * 3.3. Agreeable Personality\n",
        "    * 3.4. Conscientious Personality\n",
        "    * 3.5. Related to Open Personality\n",
        "    \n",
        "    \n",
        "* 4. Clustering\n",
        "    * 4.1 K-means\n",
        "    * 4.2 PCA\n",
        "    * 4.3 TSNE"
      ]
    },
    {
      "metadata": {
        "papermill": {
          "duration": 0.039497,
          "end_time": "2021-03-24T10:07:25.124815",
          "exception": false,
          "start_time": "2021-03-24T10:07:25.085318",
          "status": "completed"
        },
        "tags": [],
        "id": "fkczHZX6ZD_V"
      },
      "cell_type": "markdown",
      "source": [
        "# 1. What is the Big Five personality test used for?\n",
        "\n",
        "\n",
        "The Big Five personality test gives you more insight into how you react in different situations, which can help you choose an occupation. Career professionals and psychologists use this information in a personality career test for recruitment and candidate assessment[[1]( https://www.123test.com/big-five-personality-theory/)].\n",
        "\n",
        "\n",
        "The big five come from the statistical study of responses to personality items. Using a technique called factor analysis researchers can look at the responses of people to hundreds of personality items and ask the question \"what is the best was to summarize an individual?\". This has been done with many samples from all over the world and the general result is that, while there seem to be unlimited personality variables, five stand out from the pack in terms of explaining a lot of a persons answers to questions about their personality: extraversion, neuroticism, agreeableness, conscientiousness and openness to experience. The big-five are not associated with any particular test, a variety of measures have been developed to measure them. This test uses the Big-Five Factor Markers from the International Personality Item Pool, developed by Goldberg (1992)[[2](https://openpsychometrics.org/tests/IPIP-BFFM/)].\n",
        "\n",
        "* Procedure\n",
        "\n",
        "The test consists of fifty items that you must rate on how true they are about you on a five point scale where 1=Disagree, 3=Neutral and 5=Agree. It takes most people 3-8 minutes to complete.\n",
        "\n",
        "\n",
        "\n",
        "\n",
        "\n",
        "\n",
        "\n"
      ]
    },
    {
      "metadata": {
        "_kg_hide-input": true,
        "_kg_hide-output": true,
        "papermill": {
          "duration": 0.039048,
          "end_time": "2021-03-24T10:07:25.203654",
          "exception": false,
          "start_time": "2021-03-24T10:07:25.164606",
          "status": "completed"
        },
        "tags": [],
        "trusted": true,
        "id": "WMvCs946ZD_W"
      },
      "cell_type": "code",
      "source": [],
      "execution_count": null,
      "outputs": []
    },
    {
      "metadata": {
        "_cell_guid": "b1076dfc-b9ad-4769-8c92-a6c4dae69d19",
        "_uuid": "8f2839f25d086af736a60e9eeb907d3b93b6e0e5",
        "execution": {
          "iopub.execute_input": "2021-03-24T10:07:25.293273Z",
          "iopub.status.busy": "2021-03-24T10:07:25.292334Z",
          "iopub.status.idle": "2021-03-24T10:07:27.694921Z",
          "shell.execute_reply": "2021-03-24T10:07:27.695455Z"
        },
        "papermill": {
          "duration": 2.452472,
          "end_time": "2021-03-24T10:07:27.695796",
          "exception": false,
          "start_time": "2021-03-24T10:07:25.243324",
          "status": "completed"
        },
        "tags": [],
        "trusted": true,
        "id": "p7Zuu9I6ZD_X"
      },
      "cell_type": "code",
      "source": [
        "import numpy as np\n",
        "import pylab as pl\n",
        "import pandas as pd\n",
        "import matplotlib.pyplot as plt\n",
        "%matplotlib inline\n",
        "import wordcloud\n",
        "from wordcloud import WordCloud,STOPWORDS\n",
        "import seaborn as sns\n",
        "from wordcloud import WordCloud, STOPWORDS, ImageColorGenerator\n",
        "from sklearn.utils import shuffle\n",
        "import matplotlib.ticker as mtick\n",
        "\n",
        "# Plotly\n",
        "import plotly.express as px\n",
        "import plotly.graph_objects as go\n",
        "import colorlover as cl\n",
        "from plotly.subplots import make_subplots"
      ],
      "execution_count": null,
      "outputs": []
    },
    {
      "metadata": {
        "execution": {
          "iopub.execute_input": "2021-03-24T10:07:27.782062Z",
          "iopub.status.busy": "2021-03-24T10:07:27.781378Z",
          "iopub.status.idle": "2021-03-24T10:07:44.853077Z",
          "shell.execute_reply": "2021-03-24T10:07:44.853616Z"
        },
        "papermill": {
          "duration": 17.118262,
          "end_time": "2021-03-24T10:07:44.853794",
          "exception": false,
          "start_time": "2021-03-24T10:07:27.735532",
          "status": "completed"
        },
        "tags": [],
        "trusted": true,
        "id": "tCG4hAZ8ZD_Y"
      },
      "cell_type": "code",
      "source": [
        "data = pd.read_csv('../input/big-five-personality-test/IPIP-FFM-data-8Nov2018/data-final.csv', delimiter='\\t')\n",
        "data"
      ],
      "execution_count": null,
      "outputs": []
    },
    {
      "metadata": {
        "execution": {
          "iopub.execute_input": "2021-03-24T10:07:44.942949Z",
          "iopub.status.busy": "2021-03-24T10:07:44.941677Z",
          "iopub.status.idle": "2021-03-24T10:07:47.424276Z",
          "shell.execute_reply": "2021-03-24T10:07:47.423563Z"
        },
        "papermill": {
          "duration": 2.529563,
          "end_time": "2021-03-24T10:07:47.424428",
          "exception": false,
          "start_time": "2021-03-24T10:07:44.894865",
          "status": "completed"
        },
        "tags": [],
        "trusted": true,
        "id": "FBIl4g9zZD_Y"
      },
      "cell_type": "code",
      "source": [
        "#Check Missing Value\n",
        "print('Is there any missing value? ', data.isnull().values.any())\n",
        "print('How many missing values? ', data.isnull().values.sum())\n",
        "data.dropna(inplace=True)\n",
        "print('Number of participants after eliminating missing values: ', len(data))"
      ],
      "execution_count": null,
      "outputs": []
    },
    {
      "metadata": {
        "_kg_hide-input": true,
        "_kg_hide-output": true,
        "papermill": {
          "duration": 0.041649,
          "end_time": "2021-03-24T10:07:47.509801",
          "exception": false,
          "start_time": "2021-03-24T10:07:47.468152",
          "status": "completed"
        },
        "tags": [],
        "trusted": true,
        "id": "Yxd8C0I8ZD_Z"
      },
      "cell_type": "code",
      "source": [],
      "execution_count": null,
      "outputs": []
    },
    {
      "metadata": {
        "papermill": {
          "duration": 0.041573,
          "end_time": "2021-03-24T10:07:47.592902",
          "exception": false,
          "start_time": "2021-03-24T10:07:47.551329",
          "status": "completed"
        },
        "tags": [],
        "id": "dVclHGGCZD_a"
      },
      "cell_type": "markdown",
      "source": [
        "# 2. Big Five personality traits\n",
        "\n",
        "The Big Five personality traits are:\n",
        "\n",
        "* Openness :\n",
        "\n",
        "People who like to learn new things and enjoy new experiences usually score high in openness. Openness includes traits like being insightful and imaginative and having a wide variety of interests.\n",
        "\n",
        "* Conscientiousness :\n",
        "\n",
        "People that have a high degree of conscientiousness are reliable and prompt. Traits include being organized, methodic, and thorough.\n",
        "\n",
        "* Extraversion :\n",
        "\n",
        "Extraverts get their energy from interacting with others, while introverts get their energy from within themselves. Extraversion includes the traits of energetic, talkative, and assertive.\n",
        "\n",
        "* Agreeableness :\n",
        "\n",
        "These individuals are friendly, cooperative, and compassionate. People with low agreeableness may be more distant. Traits include being kind, affectionate, and sympathetic.\n",
        "\n",
        "* Neuroticism :\n",
        "\n",
        "Neuroticism is also sometimes called Emotional Stability. This dimension relates to one’s emotional stability and degree of negative emotions. People that score high on neuroticism often experience emotional instability and negative emotions. Traits include being moody and tense.\n"
      ]
    },
    {
      "metadata": {
        "_kg_hide-input": true,
        "_kg_hide-output": true,
        "papermill": {
          "duration": 0.04152,
          "end_time": "2021-03-24T10:07:47.676573",
          "exception": false,
          "start_time": "2021-03-24T10:07:47.635053",
          "status": "completed"
        },
        "tags": [],
        "trusted": true,
        "id": "3skOHcVoZD_b"
      },
      "cell_type": "code",
      "source": [],
      "execution_count": null,
      "outputs": []
    },
    {
      "metadata": {
        "papermill": {
          "duration": 0.041786,
          "end_time": "2021-03-24T10:07:47.761572",
          "exception": false,
          "start_time": "2021-03-24T10:07:47.719786",
          "status": "completed"
        },
        "tags": [],
        "id": "bzdzk5a_ZD_b"
      },
      "cell_type": "markdown",
      "source": [
        "## 2.1. Q&As Related to Extroversion Personality\n",
        "\n",
        "  * EXT1 : I am the life of the party,\n",
        "  * EXT2 : I dont talk a lot,\n",
        "  * EXT3 : I feel comfortable around people,\n",
        "  * EXT4 : I keep in the background,\n",
        "  * EXT5 : I start conversations,\n",
        "  * EXT6 : I have little to say,\n",
        "  * EXT7 : I talk to a lot of different people at parties,\n",
        "  * EXT8 : I dont like to draw attention to myself,\n",
        "  * EXT9 : I dont mind being the center of attention,\n",
        "  * EXT10: I am quiet around strangers"
      ]
    },
    {
      "metadata": {
        "_kg_hide-input": false,
        "execution": {
          "iopub.execute_input": "2021-03-24T10:07:47.877899Z",
          "iopub.status.busy": "2021-03-24T10:07:47.874824Z",
          "iopub.status.idle": "2021-03-24T10:07:50.149853Z",
          "shell.execute_reply": "2021-03-24T10:07:50.149181Z"
        },
        "papermill": {
          "duration": 2.346974,
          "end_time": "2021-03-24T10:07:50.150016",
          "exception": false,
          "start_time": "2021-03-24T10:07:47.803042",
          "status": "completed"
        },
        "tags": [],
        "trusted": true,
        "id": "E8ZYAPn-ZD_b"
      },
      "cell_type": "code",
      "source": [
        "#barplots showing the frequency of each category\n",
        "plt.figure(figsize=[15,15])\n",
        "fft=['EXT1','EXT2','EXT3','EXT4','EXT5','EXT6','EXT7','EXT8','EXT9','EXT10']\n",
        "n=1\n",
        "for f in fft:\n",
        "    plt.subplot(5,2,n)\n",
        "    sns.countplot(x=f,  edgecolor=\"black\", alpha=0.7, data=data)\n",
        "    sns.despine()\n",
        "    plt.title(\"Q&As Related to Extroversion Personality : {} \".format(f))\n",
        "    n=n+1\n",
        "plt.tight_layout()\n",
        "plt.show()"
      ],
      "execution_count": null,
      "outputs": []
    },
    {
      "metadata": {
        "_kg_hide-input": true,
        "_kg_hide-output": true,
        "papermill": {
          "duration": 0.044249,
          "end_time": "2021-03-24T10:07:50.2402",
          "exception": false,
          "start_time": "2021-03-24T10:07:50.195951",
          "status": "completed"
        },
        "tags": [],
        "trusted": true,
        "id": "59I_aE9fZD_c"
      },
      "cell_type": "code",
      "source": [],
      "execution_count": null,
      "outputs": []
    },
    {
      "metadata": {
        "papermill": {
          "duration": 0.043751,
          "end_time": "2021-03-24T10:07:50.3284",
          "exception": false,
          "start_time": "2021-03-24T10:07:50.284649",
          "status": "completed"
        },
        "tags": [],
        "id": "l7zL-tabZD_c"
      },
      "cell_type": "markdown",
      "source": [
        "## 2.2. Q&As Related to Neuroticism Personality\n",
        "\n",
        "* EST1 : I get stressed out easily,\n",
        "* EST2 : I am relaxed most of the time,\n",
        "* EST3 : I worry about things,\n",
        "* EST4 : I seldom feel blue,\n",
        "* EST5 : I am easily disturbed,\n",
        "* EST6 : I get upset easily,\n",
        "* EST7 : I change my mood a lot,\n",
        "* EST8 : I have frequent mood swings,\n",
        "* EST9 : I get irritated easily,\n",
        "* EST10: I often feel blue"
      ]
    },
    {
      "metadata": {
        "_kg_hide-input": true,
        "execution": {
          "iopub.execute_input": "2021-03-24T10:07:50.442459Z",
          "iopub.status.busy": "2021-03-24T10:07:50.441351Z",
          "iopub.status.idle": "2021-03-24T10:07:52.551994Z",
          "shell.execute_reply": "2021-03-24T10:07:52.551333Z"
        },
        "papermill": {
          "duration": 2.17956,
          "end_time": "2021-03-24T10:07:52.552155",
          "exception": false,
          "start_time": "2021-03-24T10:07:50.372595",
          "status": "completed"
        },
        "tags": [],
        "trusted": true,
        "id": "OtxrH6wHZD_c"
      },
      "cell_type": "code",
      "source": [
        "#barplots showing the frequency of each category\n",
        "plt.figure(figsize=[15,15])\n",
        "fft=['EST1','EST2','EST3','EST4','EST5','EST6','EST7','EST8','EST9','EST10']\n",
        "n=1\n",
        "for f in fft:\n",
        "    plt.subplot(5,2,n)\n",
        "    sns.countplot(x=f,  edgecolor=\"black\", alpha=0.7, data=data)\n",
        "    sns.despine()\n",
        "    plt.title(\"Q&As Related to Neuroticism Personality : {} \".format(f))\n",
        "    n=n+1\n",
        "plt.tight_layout()\n",
        "plt.show()"
      ],
      "execution_count": null,
      "outputs": []
    },
    {
      "metadata": {
        "_kg_hide-input": true,
        "_kg_hide-output": true,
        "papermill": {
          "duration": 0.046977,
          "end_time": "2021-03-24T10:07:52.645862",
          "exception": false,
          "start_time": "2021-03-24T10:07:52.598885",
          "status": "completed"
        },
        "tags": [],
        "trusted": true,
        "id": "p8n8fFtiZD_c"
      },
      "cell_type": "code",
      "source": [],
      "execution_count": null,
      "outputs": []
    },
    {
      "metadata": {
        "papermill": {
          "duration": 0.046639,
          "end_time": "2021-03-24T10:07:52.74036",
          "exception": false,
          "start_time": "2021-03-24T10:07:52.693721",
          "status": "completed"
        },
        "tags": [],
        "id": "CQFsI2LYZD_c"
      },
      "cell_type": "markdown",
      "source": [
        "## 2.3. Q&As Related to Agreeable Personality\n",
        "\n",
        "* AGR1 : I feel little concern for others,\n",
        "* AGR2 : I am interested in people,\n",
        "* AGR3 : I insult people,\n",
        "* AGR4 : I sympathize with others feelings,\n",
        "* AGR5 : I am not interested in other peoples problems,\n",
        "* AGR6 : I have a soft heart,\n",
        "* AGR7 : I am not really interested in others,\n",
        "* AGR8 : I take time out for others,\n",
        "* AGR9 : I feel others emotions,\n",
        "* AGR10: I make people feel at ease"
      ]
    },
    {
      "metadata": {
        "execution": {
          "iopub.execute_input": "2021-03-24T10:07:52.862952Z",
          "iopub.status.busy": "2021-03-24T10:07:52.857623Z",
          "iopub.status.idle": "2021-03-24T10:07:54.89584Z",
          "shell.execute_reply": "2021-03-24T10:07:54.896359Z"
        },
        "papermill": {
          "duration": 2.109371,
          "end_time": "2021-03-24T10:07:54.896549",
          "exception": false,
          "start_time": "2021-03-24T10:07:52.787178",
          "status": "completed"
        },
        "tags": [],
        "trusted": true,
        "id": "qVQZUhNcZD_d"
      },
      "cell_type": "code",
      "source": [
        "#barplots showing the frequency of each category\n",
        "plt.figure(figsize=[15,15])\n",
        "fft=['AGR1','AGR2','AGR3','AGR4','AGR5','AGR6','AGR7','AGR8','AGR9','AGR10']\n",
        "n=1\n",
        "for f in fft:\n",
        "    plt.subplot(5,2,n)\n",
        "    sns.countplot(x=f, edgecolor=\"black\", alpha=0.7, data=data)\n",
        "    sns.despine()\n",
        "    plt.title(\"Q&As Related to Agreeable Personality : {} \".format(f))\n",
        "    n=n+1\n",
        "plt.tight_layout()\n",
        "plt.show()"
      ],
      "execution_count": null,
      "outputs": []
    },
    {
      "metadata": {
        "_kg_hide-input": true,
        "_kg_hide-output": true,
        "papermill": {
          "duration": 0.049025,
          "end_time": "2021-03-24T10:07:54.994973",
          "exception": false,
          "start_time": "2021-03-24T10:07:54.945948",
          "status": "completed"
        },
        "tags": [],
        "trusted": true,
        "id": "GwdwLbwDZD_d"
      },
      "cell_type": "code",
      "source": [],
      "execution_count": null,
      "outputs": []
    },
    {
      "metadata": {
        "papermill": {
          "duration": 0.048703,
          "end_time": "2021-03-24T10:07:55.093894",
          "exception": false,
          "start_time": "2021-03-24T10:07:55.045191",
          "status": "completed"
        },
        "tags": [],
        "id": "F13J5k_eZD_d"
      },
      "cell_type": "markdown",
      "source": [
        "## 2.4. Q&As Related to Conscientious Personality\n",
        "\n",
        "* CSN1 : I am always prepared,\n",
        "* CSN2 : I leave my belongings around,\n",
        "* CSN3 : I pay attention to details,\n",
        "* CSN4 : I make a mess of things,\n",
        "* CSN5 : I get chores done right away,\n",
        "* CSN6 : I often forget to put things back in their proper place,\n",
        "* CSN7 : I like order,\n",
        "* CSN8 : I shirk my duties,\n",
        "* CSN9 : I follow a schedule,\n",
        "* CSN10 : I am exacting in my work"
      ]
    },
    {
      "metadata": {
        "execution": {
          "iopub.execute_input": "2021-03-24T10:07:55.403688Z",
          "iopub.status.busy": "2021-03-24T10:07:55.402448Z",
          "iopub.status.idle": "2021-03-24T10:07:57.492793Z",
          "shell.execute_reply": "2021-03-24T10:07:57.493304Z"
        },
        "papermill": {
          "duration": 2.34913,
          "end_time": "2021-03-24T10:07:57.493504",
          "exception": false,
          "start_time": "2021-03-24T10:07:55.144374",
          "status": "completed"
        },
        "tags": [],
        "trusted": true,
        "id": "X3nDxowNZD_d"
      },
      "cell_type": "code",
      "source": [
        "#barplots showing the frequency of each category\n",
        "plt.figure(figsize=[15,15])\n",
        "fft=['CSN1','CSN2','CSN3','CSN4','CSN5','CSN6','CSN7','CSN8','CSN9','CSN10']\n",
        "n=1\n",
        "for f in fft:\n",
        "    plt.subplot(5,2,n)\n",
        "    sns.countplot(x=f, edgecolor=\"black\", alpha=0.7, data=data)\n",
        "    sns.despine()\n",
        "    plt.title(\"Q&As Related to Conscientious Personality: {} \".format(f))\n",
        "    n=n+1\n",
        "plt.tight_layout()\n",
        "plt.show()"
      ],
      "execution_count": null,
      "outputs": []
    },
    {
      "metadata": {
        "_kg_hide-input": true,
        "_kg_hide-output": true,
        "papermill": {
          "duration": 0.051041,
          "end_time": "2021-03-24T10:07:57.596462",
          "exception": false,
          "start_time": "2021-03-24T10:07:57.545421",
          "status": "completed"
        },
        "tags": [],
        "trusted": true,
        "id": "AF-hH5ZLZD_d"
      },
      "cell_type": "code",
      "source": [],
      "execution_count": null,
      "outputs": []
    },
    {
      "metadata": {
        "papermill": {
          "duration": 0.05092,
          "end_time": "2021-03-24T10:07:57.698865",
          "exception": false,
          "start_time": "2021-03-24T10:07:57.647945",
          "status": "completed"
        },
        "tags": [],
        "id": "rdqw78D0ZD_d"
      },
      "cell_type": "markdown",
      "source": [
        "## 2.5. Q&As Related to Open Personality\n",
        "\n",
        "\n",
        "* OPN1 : I have a rich vocabulary,\n",
        "* OPN2 : I have difficulty understanding abstract ideas,\n",
        "* OPN3 : I have a vivid imagination,\n",
        "* OPN4 : I am not interested in abstract ideas,\n",
        "* OPN5 : I have excellent ideas,\n",
        "* OPN6 : I do not have a good imagination,\n",
        "* OPN7 : I am quick to understand things,\n",
        "* OPN8 : I use difficult words,\n",
        "* OPN9 : I spend time reflecting on things,\n",
        "* OPN10: I am full of ideas"
      ]
    },
    {
      "metadata": {
        "execution": {
          "iopub.execute_input": "2021-03-24T10:07:57.827665Z",
          "iopub.status.busy": "2021-03-24T10:07:57.825066Z",
          "iopub.status.idle": "2021-03-24T10:07:59.894987Z",
          "shell.execute_reply": "2021-03-24T10:07:59.894324Z"
        },
        "papermill": {
          "duration": 2.14525,
          "end_time": "2021-03-24T10:07:59.895155",
          "exception": false,
          "start_time": "2021-03-24T10:07:57.749905",
          "status": "completed"
        },
        "tags": [],
        "trusted": true,
        "id": "FRJNCCHFZD_e"
      },
      "cell_type": "code",
      "source": [
        "#barplots showing the frequency of each category\n",
        "plt.figure(figsize=[15,15])\n",
        "fft=['OPN1','OPN2','OPN3','OPN4','OPN5','OPN6','OPN7','OPN8','OPN9','OPN10']\n",
        "n=1\n",
        "for f in fft:\n",
        "    plt.subplot(5,2,n)\n",
        "    sns.countplot(x=f,  edgecolor=\"black\", alpha=0.7, data=data)\n",
        "    sns.despine()\n",
        "    plt.title(\"Q&As Related to Open Personality : {}  \".format(f))\n",
        "    n=n+1\n",
        "plt.tight_layout()\n",
        "plt.show()"
      ],
      "execution_count": null,
      "outputs": []
    },
    {
      "metadata": {
        "_kg_hide-input": true,
        "_kg_hide-output": true,
        "papermill": {
          "duration": 0.055741,
          "end_time": "2021-03-24T10:08:00.006697",
          "exception": false,
          "start_time": "2021-03-24T10:07:59.950956",
          "status": "completed"
        },
        "tags": [],
        "trusted": true,
        "id": "VuqM2Wm_ZD_e"
      },
      "cell_type": "code",
      "source": [],
      "execution_count": null,
      "outputs": []
    },
    {
      "metadata": {
        "papermill": {
          "duration": 0.054131,
          "end_time": "2021-03-24T10:08:00.117345",
          "exception": false,
          "start_time": "2021-03-24T10:08:00.063214",
          "status": "completed"
        },
        "tags": [],
        "id": "R4hkLdwkZD_e"
      },
      "cell_type": "markdown",
      "source": [
        "# 3. The Big Five Personality Test in across Countries (by Continent)"
      ]
    },
    {
      "metadata": {
        "execution": {
          "iopub.execute_input": "2021-03-24T10:08:00.235254Z",
          "iopub.status.busy": "2021-03-24T10:08:00.234513Z",
          "iopub.status.idle": "2021-03-24T10:08:00.274223Z",
          "shell.execute_reply": "2021-03-24T10:08:00.273654Z"
        },
        "papermill": {
          "duration": 0.100513,
          "end_time": "2021-03-24T10:08:00.274383",
          "exception": false,
          "start_time": "2021-03-24T10:08:00.17387",
          "status": "completed"
        },
        "tags": [],
        "trusted": true,
        "id": "PzlKzUkgZD_e"
      },
      "cell_type": "code",
      "source": [
        "continents= pd.read_csv('../input/country-mapping-iso-continent-region/continents2.csv')\n",
        "continents"
      ],
      "execution_count": null,
      "outputs": []
    },
    {
      "metadata": {
        "execution": {
          "iopub.execute_input": "2021-03-24T10:08:00.391154Z",
          "iopub.status.busy": "2021-03-24T10:08:00.390402Z",
          "iopub.status.idle": "2021-03-24T10:08:00.753066Z",
          "shell.execute_reply": "2021-03-24T10:08:00.752316Z"
        },
        "papermill": {
          "duration": 0.423151,
          "end_time": "2021-03-24T10:08:00.753248",
          "exception": false,
          "start_time": "2021-03-24T10:08:00.330097",
          "status": "completed"
        },
        "tags": [],
        "trusted": true,
        "id": "2asP1mhwZD_e"
      },
      "cell_type": "code",
      "source": [
        "data1=data.copy()\n",
        "data1['alpha-2']=data1['country']"
      ],
      "execution_count": null,
      "outputs": []
    },
    {
      "metadata": {
        "execution": {
          "iopub.execute_input": "2021-03-24T10:08:00.872265Z",
          "iopub.status.busy": "2021-03-24T10:08:00.871506Z",
          "iopub.status.idle": "2021-03-24T10:08:02.584917Z",
          "shell.execute_reply": "2021-03-24T10:08:02.585741Z"
        },
        "papermill": {
          "duration": 1.777511,
          "end_time": "2021-03-24T10:08:02.585986",
          "exception": false,
          "start_time": "2021-03-24T10:08:00.808475",
          "status": "completed"
        },
        "tags": [],
        "trusted": true,
        "id": "SFpir2hJZD_e"
      },
      "cell_type": "code",
      "source": [
        "continents = data1.merge(continents, on=[\"alpha-2\"], how='left')\n"
      ],
      "execution_count": null,
      "outputs": []
    },
    {
      "metadata": {
        "papermill": {
          "duration": 0.056418,
          "end_time": "2021-03-24T10:08:02.703524",
          "exception": false,
          "start_time": "2021-03-24T10:08:02.647106",
          "status": "completed"
        },
        "tags": [],
        "id": "EJsdxIiHZD_f"
      },
      "cell_type": "markdown",
      "source": [
        "## 3.1. Extroversion Personality\n"
      ]
    },
    {
      "metadata": {
        "_kg_hide-input": false,
        "execution": {
          "iopub.execute_input": "2021-03-24T10:08:02.826942Z",
          "iopub.status.busy": "2021-03-24T10:08:02.825385Z",
          "iopub.status.idle": "2021-03-24T10:08:03.938022Z",
          "shell.execute_reply": "2021-03-24T10:08:03.938599Z"
        },
        "papermill": {
          "duration": 1.179806,
          "end_time": "2021-03-24T10:08:03.938785",
          "exception": false,
          "start_time": "2021-03-24T10:08:02.758979",
          "status": "completed"
        },
        "tags": [],
        "trusted": true,
        "id": "v6PQrGACZD_f"
      },
      "cell_type": "code",
      "source": [
        "#Viz Ref: https://www.kaggle.com/dwin183287/kagglers-seen-by-continents\n",
        "EP_lst = ['EXT1','EXT2','EXT3','EXT4','EXT5','EXT6','EXT7','EXT8','EXT9','EXT10']\n",
        "EP_df = continents.groupby([\"region\"])[EP_lst].count()\n",
        "EP_df.columns = ['I am the life of the party','I dont talk a lot','I feel comfortable around people',\n",
        "                'I keep in the background','I start conversations','I have little to say',\n",
        "                'I talk to a lot of different people at parties','I dont like to draw attention to myself',\n",
        "                'I dont mind being the center of attention','I am quiet around strangers']\n",
        "EP_df = EP_df.loc[['Africa','Americas','Asia','Europe','Oceania'], :]\n",
        "EP_df = EP_df.T\n",
        "\n",
        "EP_df[\"World\"] = EP_df.sum(axis=1)\n",
        "EP_df = EP_df.sort_values(by=\"World\", ascending=True)\n",
        "EP_df[\"Min\"] = EP_df.min(axis=1)\n",
        "EP_df[\"Max\"] = EP_df.max(axis=1)"
      ],
      "execution_count": null,
      "outputs": []
    },
    {
      "metadata": {
        "_kg_hide-input": false,
        "execution": {
          "iopub.execute_input": "2021-03-24T10:08:04.067215Z",
          "iopub.status.busy": "2021-03-24T10:08:04.061271Z",
          "iopub.status.idle": "2021-03-24T10:08:04.461196Z",
          "shell.execute_reply": "2021-03-24T10:08:04.461704Z"
        },
        "papermill": {
          "duration": 0.466724,
          "end_time": "2021-03-24T10:08:04.461893",
          "exception": false,
          "start_time": "2021-03-24T10:08:03.995169",
          "status": "completed"
        },
        "tags": [],
        "trusted": true,
        "id": "IFRFMgI4ZD_f"
      },
      "cell_type": "code",
      "source": [
        "# Setting up figure and axes\n",
        "fig = plt.figure(figsize=(10,5)) # create figure\n",
        "gs = fig.add_gridspec(1, 1)\n",
        "gs.update(wspace=0, hspace=0)\n",
        "ax0 = fig.add_subplot(gs[0, 0])\n",
        "\n",
        "# Change background color\n",
        "background_color = \"#fbfbfb\"\n",
        "fig.patch.set_facecolor(background_color) # figure background color\n",
        "ax0.set_facecolor(background_color) # axes background color\n",
        "\n",
        "y_dummy = np.arange(1,len(EP_df.index)+1)\n",
        "\n",
        "ax0.hlines(y=y_dummy, xmin=EP_df[\"Min\"], xmax=EP_df[\"Max\"], color='grey', alpha=0.4, zorder=3)\n",
        "ax0.scatter(EP_df['World'], y_dummy, color='red', label='World')\n",
        "ax0.scatter(EP_df['Africa'], y_dummy, color='green', label='Africa')\n",
        "ax0.scatter(EP_df['Americas'], y_dummy, color='blue', label='Americas')\n",
        "ax0.scatter(EP_df['Asia'], y_dummy, color='orange', label='Asia')\n",
        "ax0.scatter(EP_df['Europe'], y_dummy, color='skyblue', label='Europe')\n",
        "ax0.scatter(EP_df['Oceania'], y_dummy, color='magenta', label='Oceania')\n",
        "\n",
        "y_label = list(EP_df.index)\n",
        "y_label.insert(0, \"\")\n",
        "ax0.yaxis.set_major_locator(mtick.MultipleLocator(1))\n",
        "ax0.set_yticklabels(y_label)\n",
        "ax0.set_xticklabels([])\n",
        "ax0.tick_params(bottom=False)\n",
        "\n",
        "ax0.text(-100, 14,\n",
        "         'Visualization Extraversion Personality traits across Countries (by Continent)',\n",
        "         fontsize=20, fontweight='bold', fontfamily='serif')\n",
        "\n",
        "\n",
        "\n",
        "ax0.legend(loc='lower center', ncol=7, bbox_to_anchor=(0.53, -0.1))\n",
        "\n",
        "for s in [\"top\",\"right\", \"left\", \"bottom\"]:\n",
        "    ax0.spines[s].set_visible(False)"
      ],
      "execution_count": null,
      "outputs": []
    },
    {
      "metadata": {
        "execution": {
          "iopub.execute_input": "2021-03-24T10:08:04.605104Z",
          "iopub.status.busy": "2021-03-24T10:08:04.603932Z",
          "iopub.status.idle": "2021-03-24T10:08:05.305942Z",
          "shell.execute_reply": "2021-03-24T10:08:05.305379Z"
        },
        "papermill": {
          "duration": 0.785832,
          "end_time": "2021-03-24T10:08:05.306098",
          "exception": false,
          "start_time": "2021-03-24T10:08:04.520266",
          "status": "completed"
        },
        "tags": [],
        "trusted": true,
        "id": "9FGAU4GFZD_f"
      },
      "cell_type": "code",
      "source": [
        "display(continents[['EXT1','EXT2','EXT3','EXT4','EXT5','EXT6','EXT7','EXT8','EXT9','EXT10','region']].groupby(['region']).agg([\"min\",\"max\",'mean','sum']).style.background_gradient(cmap=\"GnBu\"))"
      ],
      "execution_count": null,
      "outputs": []
    },
    {
      "metadata": {
        "execution": {
          "iopub.execute_input": "2021-03-24T10:08:05.456242Z",
          "iopub.status.busy": "2021-03-24T10:08:05.454159Z",
          "iopub.status.idle": "2021-03-24T10:17:24.404803Z",
          "shell.execute_reply": "2021-03-24T10:17:24.405444Z"
        },
        "papermill": {
          "duration": 559.038854,
          "end_time": "2021-03-24T10:17:24.405877",
          "exception": false,
          "start_time": "2021-03-24T10:08:05.367023",
          "status": "completed"
        },
        "tags": [],
        "trusted": true,
        "id": "OYhp97S2ZD_f"
      },
      "cell_type": "code",
      "source": [
        "continents[['EXT1','EXT2','EXT3','EXT4','EXT5','EXT6','EXT7','EXT8','EXT9','EXT10','dateload','region']].groupby(['region']).agg([\"sum\"]).plot(kind=\"line\",color =[\"orange\",\"blue\",\"green\",'red','magenta','pink','skyblue','yellow','purple','black'])\n",
        "plt.title(\"Sum : Extroversion Personality traits across Countries (by Continent)\", fontsize=20)\n",
        "plt.ylabel(\"Extroversion Personality\",fontsize=10)\n",
        "plt.xlabel(\" \")\n",
        "plt.xticks(rotation=90)\n",
        "plt.show()"
      ],
      "execution_count": null,
      "outputs": []
    },
    {
      "metadata": {
        "_kg_hide-input": true,
        "_kg_hide-output": true,
        "papermill": {
          "duration": 0.062641,
          "end_time": "2021-03-24T10:17:24.532899",
          "exception": false,
          "start_time": "2021-03-24T10:17:24.470258",
          "status": "completed"
        },
        "tags": [],
        "trusted": true,
        "id": "XOu2isVbZD_g"
      },
      "cell_type": "code",
      "source": [],
      "execution_count": null,
      "outputs": []
    },
    {
      "metadata": {
        "papermill": {
          "duration": 0.062396,
          "end_time": "2021-03-24T10:17:24.65721",
          "exception": false,
          "start_time": "2021-03-24T10:17:24.594814",
          "status": "completed"
        },
        "tags": [],
        "id": "cRVJPSVrZD_g"
      },
      "cell_type": "markdown",
      "source": [
        "## 3.2. Neuroticism Personality\n"
      ]
    },
    {
      "metadata": {
        "execution": {
          "iopub.execute_input": "2021-03-24T10:17:24.929074Z",
          "iopub.status.busy": "2021-03-24T10:17:24.92833Z",
          "iopub.status.idle": "2021-03-24T10:17:24.976234Z",
          "shell.execute_reply": "2021-03-24T10:17:24.975622Z"
        },
        "papermill": {
          "duration": 0.256813,
          "end_time": "2021-03-24T10:17:24.976397",
          "exception": false,
          "start_time": "2021-03-24T10:17:24.719584",
          "status": "completed"
        },
        "tags": [],
        "trusted": true,
        "id": "0afFdp11ZD_g"
      },
      "cell_type": "code",
      "source": [
        "NP_lst = ['EST1','EST2','EST3','EST4','EST5','EST6','EST7','EST8','EST9','EST10']\n",
        "NP_df = continents.groupby([\"region\"])[NP_lst].count()\n",
        "NP_df.columns = ['I get stressed out easily', 'I am relaxed most of the time','I worry about things',\n",
        "                'I seldom feel blue','I am easily disturbed','I get upset easily','I change my mood a lot',\n",
        "                'I have frequent mood swings','I get irritated easily','I often feel blue']\n",
        "NP_df = NP_df.loc[['Africa','Americas','Asia','Europe','Oceania'], :]\n",
        "NP_df = NP_df.T\n",
        "\n",
        "NP_df[\"World\"] = NP_df.sum(axis=1)\n",
        "NP_df = NP_df.sort_values(by=\"World\", ascending=True)\n",
        "NP_df[\"Min\"] = NP_df.min(axis=1)\n",
        "NP_df[\"Max\"] = NP_df.max(axis=1)"
      ],
      "execution_count": null,
      "outputs": []
    },
    {
      "metadata": {
        "execution": {
          "iopub.execute_input": "2021-03-24T10:17:25.144231Z",
          "iopub.status.busy": "2021-03-24T10:17:25.142639Z",
          "iopub.status.idle": "2021-03-24T10:17:25.489212Z",
          "shell.execute_reply": "2021-03-24T10:17:25.487954Z"
        },
        "papermill": {
          "duration": 0.449096,
          "end_time": "2021-03-24T10:17:25.489387",
          "exception": false,
          "start_time": "2021-03-24T10:17:25.040291",
          "status": "completed"
        },
        "tags": [],
        "trusted": true,
        "id": "mKJYTno8ZD_l"
      },
      "cell_type": "code",
      "source": [
        "# Setting up figure and axes\n",
        "fig = plt.figure(figsize=(10,5)) # create figure\n",
        "gs = fig.add_gridspec(1, 1)\n",
        "gs.update(wspace=0, hspace=0)\n",
        "ax0 = fig.add_subplot(gs[0, 0])\n",
        "\n",
        "# Change background color\n",
        "background_color = \"#fbfbfb\"\n",
        "fig.patch.set_facecolor(background_color) # figure background color\n",
        "ax0.set_facecolor(background_color) # axes background color\n",
        "\n",
        "y_dummy = np.arange(1,len(NP_df.index)+1)\n",
        "\n",
        "ax0.hlines(y=y_dummy, xmin=NP_df[\"Min\"], xmax=NP_df[\"Max\"], color='grey', alpha=0.4, zorder=3)\n",
        "ax0.scatter(NP_df['World'], y_dummy, color='red', label='World')\n",
        "ax0.scatter(NP_df['Africa'], y_dummy, color='green', label='Africa')\n",
        "ax0.scatter(NP_df['Americas'], y_dummy, color='blue', label='Americas')\n",
        "ax0.scatter(NP_df['Asia'], y_dummy, color='orange', label='Asia')\n",
        "ax0.scatter(NP_df['Europe'], y_dummy, color='skyblue', label='Europe')\n",
        "ax0.scatter(NP_df['Oceania'], y_dummy, color='magenta', label='Oceania')\n",
        "\n",
        "y_label = list(NP_df.index)\n",
        "y_label.insert(0, \"\")\n",
        "ax0.yaxis.set_major_locator(mtick.MultipleLocator(1))\n",
        "ax0.set_yticklabels(y_label)\n",
        "ax0.set_xticklabels([])\n",
        "ax0.tick_params(bottom=False)\n",
        "\n",
        "ax0.text(-100, 14,\n",
        "         'Visualization Neuroticism Personality traits across Countries (by Continent)',\n",
        "         fontsize=20, fontweight='bold', fontfamily='serif')\n",
        "\n",
        "\n",
        "\n",
        "ax0.legend(loc='lower center', ncol=7, bbox_to_anchor=(0.53, -0.1))\n",
        "\n",
        "for s in [\"top\",\"right\", \"left\", \"bottom\"]:\n",
        "    ax0.spines[s].set_visible(False)"
      ],
      "execution_count": null,
      "outputs": []
    },
    {
      "metadata": {
        "execution": {
          "iopub.execute_input": "2021-03-24T10:17:25.645477Z",
          "iopub.status.busy": "2021-03-24T10:17:25.644763Z",
          "iopub.status.idle": "2021-03-24T10:17:26.237435Z",
          "shell.execute_reply": "2021-03-24T10:17:26.236478Z"
        },
        "papermill": {
          "duration": 0.681478,
          "end_time": "2021-03-24T10:17:26.23761",
          "exception": false,
          "start_time": "2021-03-24T10:17:25.556132",
          "status": "completed"
        },
        "tags": [],
        "trusted": true,
        "id": "O4DIVaSGZD_m"
      },
      "cell_type": "code",
      "source": [
        "display(continents[['EST1','EST2','EST3','EST4','EST5','EST6','EST7','EST8','EST9','EST10','region']].groupby(['region']).agg([\"min\",\"max\",'mean','sum']).style.background_gradient(cmap=\"GnBu\"))"
      ],
      "execution_count": null,
      "outputs": []
    },
    {
      "metadata": {
        "execution": {
          "iopub.execute_input": "2021-03-24T10:17:26.396361Z",
          "iopub.status.busy": "2021-03-24T10:17:26.395625Z",
          "iopub.status.idle": "2021-03-24T10:26:54.259014Z",
          "shell.execute_reply": "2021-03-24T10:26:54.259599Z"
        },
        "papermill": {
          "duration": 567.954829,
          "end_time": "2021-03-24T10:26:54.259874",
          "exception": false,
          "start_time": "2021-03-24T10:17:26.305045",
          "status": "completed"
        },
        "tags": [],
        "trusted": true,
        "id": "LcTJvgtrZD_m"
      },
      "cell_type": "code",
      "source": [
        "continents[['EST1','EST2','EST3','EST4','EST5','EST6','EST7','EST8','EST9','EST10','dateload','region']].groupby(['region']).agg([\"sum\"]).plot(kind=\"line\",color =[\"orange\",\"blue\",\"green\",'red','magenta','pink','skyblue','yellow','purple','black'])\n",
        "plt.title(\"Sum : Neuroticism Personality traits across Countries (by Continent)\", fontsize=20)\n",
        "plt.ylabel(\"Neuroticism Personality\",fontsize=10)\n",
        "plt.xlabel(\" \")\n",
        "plt.xticks(rotation=90)\n",
        "plt.show()"
      ],
      "execution_count": null,
      "outputs": []
    },
    {
      "metadata": {
        "_kg_hide-input": true,
        "_kg_hide-output": true,
        "papermill": {
          "duration": 0.069304,
          "end_time": "2021-03-24T10:26:54.39827",
          "exception": false,
          "start_time": "2021-03-24T10:26:54.328966",
          "status": "completed"
        },
        "tags": [],
        "trusted": true,
        "id": "8_W5an9yZD_m"
      },
      "cell_type": "code",
      "source": [],
      "execution_count": null,
      "outputs": []
    },
    {
      "metadata": {
        "papermill": {
          "duration": 0.06764,
          "end_time": "2021-03-24T10:26:54.534293",
          "exception": false,
          "start_time": "2021-03-24T10:26:54.466653",
          "status": "completed"
        },
        "tags": [],
        "id": "m_msGolQZD_m"
      },
      "cell_type": "markdown",
      "source": [
        "## 3.3. Agreeable Personality\n"
      ]
    },
    {
      "metadata": {
        "execution": {
          "iopub.execute_input": "2021-03-24T10:26:54.680419Z",
          "iopub.status.busy": "2021-03-24T10:26:54.679629Z",
          "iopub.status.idle": "2021-03-24T10:26:54.856373Z",
          "shell.execute_reply": "2021-03-24T10:26:54.856952Z"
        },
        "papermill": {
          "duration": 0.254906,
          "end_time": "2021-03-24T10:26:54.857165",
          "exception": false,
          "start_time": "2021-03-24T10:26:54.602259",
          "status": "completed"
        },
        "tags": [],
        "trusted": true,
        "id": "MBYzYLxWZD_m"
      },
      "cell_type": "code",
      "source": [
        "AP_lst = ['AGR1','AGR2','AGR3','AGR4','AGR5','AGR6','AGR7','AGR8','AGR9','AGR10']\n",
        "AP_df = continents.groupby([\"region\"])[AP_lst].count()\n",
        "AP_df.columns = ['I feel little concern for others','I am interested in people','I insult people','I sympathize with others feelings',\n",
        "                'I am not interested in other peoples problems','I have a soft heart',\n",
        "                'I am not really interested in others','I take time out for others',\n",
        "                'I feel others emotions','I make people feel at ease']\n",
        "AP_df = AP_df.loc[['Africa','Americas','Asia','Europe','Oceania'], :]\n",
        "AP_df = AP_df.T\n",
        "\n",
        "AP_df[\"World\"] = AP_df.sum(axis=1)\n",
        "AP_df = AP_df.sort_values(by=\"World\", ascending=True)\n",
        "AP_df[\"Min\"] = AP_df.min(axis=1)\n",
        "AP_df[\"Max\"] = AP_df.max(axis=1)"
      ],
      "execution_count": null,
      "outputs": []
    },
    {
      "metadata": {
        "execution": {
          "iopub.execute_input": "2021-03-24T10:26:55.00394Z",
          "iopub.status.busy": "2021-03-24T10:26:55.003253Z",
          "iopub.status.idle": "2021-03-24T10:26:55.378067Z",
          "shell.execute_reply": "2021-03-24T10:26:55.378576Z"
        },
        "papermill": {
          "duration": 0.448888,
          "end_time": "2021-03-24T10:26:55.37876",
          "exception": false,
          "start_time": "2021-03-24T10:26:54.929872",
          "status": "completed"
        },
        "tags": [],
        "trusted": true,
        "id": "xX-ETdJiZD_m"
      },
      "cell_type": "code",
      "source": [
        "# Setting up figure and axes\n",
        "fig = plt.figure(figsize=(10,5)) # create figure\n",
        "gs = fig.add_gridspec(1, 1)\n",
        "gs.update(wspace=0, hspace=0)\n",
        "ax0 = fig.add_subplot(gs[0, 0])\n",
        "\n",
        "# Change background color\n",
        "background_color = \"#fbfbfb\"\n",
        "fig.patch.set_facecolor(background_color) # figure background color\n",
        "ax0.set_facecolor(background_color) # axes background color\n",
        "\n",
        "y_dummy = np.arange(1,len(AP_df.index)+1)\n",
        "\n",
        "ax0.hlines(y=y_dummy, xmin=AP_df[\"Min\"], xmax=AP_df[\"Max\"], color='grey', alpha=0.4, zorder=3)\n",
        "ax0.scatter(AP_df['World'], y_dummy, color='red', label='World')\n",
        "ax0.scatter(AP_df['Africa'], y_dummy, color='green', label='Africa')\n",
        "ax0.scatter(AP_df['Americas'], y_dummy, color='blue', label='Americas')\n",
        "ax0.scatter(AP_df['Asia'], y_dummy, color='orange', label='Asia')\n",
        "ax0.scatter(AP_df['Europe'], y_dummy, color='skyblue', label='Europe')\n",
        "ax0.scatter(AP_df['Oceania'], y_dummy, color='magenta', label='Oceania')\n",
        "\n",
        "y_label = list(AP_df.index)\n",
        "y_label.insert(0, \"\")\n",
        "ax0.yaxis.set_major_locator(mtick.MultipleLocator(1))\n",
        "ax0.set_yticklabels(y_label)\n",
        "ax0.set_xticklabels([])\n",
        "ax0.tick_params(bottom=False)\n",
        "\n",
        "ax0.text(-100, 14,\n",
        "         'Visualization Agreeable Personality traits across Countries (by Continent)',\n",
        "         fontsize=20, fontweight='bold', fontfamily='serif')\n",
        "\n",
        "\n",
        "\n",
        "ax0.legend(loc='lower center', ncol=7, bbox_to_anchor=(0.53, -0.1))\n",
        "\n",
        "for s in [\"top\",\"right\", \"left\", \"bottom\"]:\n",
        "    ax0.spines[s].set_visible(False)"
      ],
      "execution_count": null,
      "outputs": []
    },
    {
      "metadata": {
        "execution": {
          "iopub.execute_input": "2021-03-24T10:26:55.527653Z",
          "iopub.status.busy": "2021-03-24T10:26:55.526924Z",
          "iopub.status.idle": "2021-03-24T10:26:56.133313Z",
          "shell.execute_reply": "2021-03-24T10:26:56.132746Z"
        },
        "papermill": {
          "duration": 0.681562,
          "end_time": "2021-03-24T10:26:56.133524",
          "exception": false,
          "start_time": "2021-03-24T10:26:55.451962",
          "status": "completed"
        },
        "tags": [],
        "trusted": true,
        "id": "0KQABjbvZD_n"
      },
      "cell_type": "code",
      "source": [
        "display(continents[['AGR1','AGR2','AGR3','AGR4','AGR5','AGR6','AGR7','AGR8','AGR9','AGR10','region']].groupby(['region']).agg([\"min\",\"max\",'mean','sum']).style.background_gradient(cmap=\"GnBu\"))"
      ],
      "execution_count": null,
      "outputs": []
    },
    {
      "metadata": {
        "execution": {
          "iopub.execute_input": "2021-03-24T10:26:56.30971Z",
          "iopub.status.busy": "2021-03-24T10:26:56.307825Z",
          "iopub.status.idle": "2021-03-24T10:36:19.102209Z",
          "shell.execute_reply": "2021-03-24T10:36:19.102784Z"
        },
        "papermill": {
          "duration": 562.89448,
          "end_time": "2021-03-24T10:36:19.103009",
          "exception": false,
          "start_time": "2021-03-24T10:26:56.208529",
          "status": "completed"
        },
        "tags": [],
        "trusted": true,
        "id": "rCmmJqNGZD_n"
      },
      "cell_type": "code",
      "source": [
        "continents[['AGR1','AGR2','AGR3','AGR4','AGR5','AGR6','AGR7','AGR8','AGR9','AGR10','dateload','region']].groupby(['region']).agg([\"sum\"]).plot(kind=\"line\",color =[\"orange\",\"blue\",\"green\",'red','magenta','pink','skyblue','yellow','purple','black'])\n",
        "plt.title(\"Sum : Agreeable Personality traits across Countries (by Continent)\", fontsize=20)\n",
        "plt.ylabel(\"Agreeable Personality\",fontsize=10)\n",
        "plt.xlabel(\" \")\n",
        "plt.xticks(rotation=90)\n",
        "plt.show()"
      ],
      "execution_count": null,
      "outputs": []
    },
    {
      "metadata": {
        "_kg_hide-input": true,
        "_kg_hide-output": true,
        "papermill": {
          "duration": 0.076765,
          "end_time": "2021-03-24T10:36:19.255669",
          "exception": false,
          "start_time": "2021-03-24T10:36:19.178904",
          "status": "completed"
        },
        "tags": [],
        "trusted": true,
        "id": "g0WcUo1kZD_n"
      },
      "cell_type": "code",
      "source": [],
      "execution_count": null,
      "outputs": []
    },
    {
      "metadata": {
        "papermill": {
          "duration": 0.159723,
          "end_time": "2021-03-24T10:36:19.492961",
          "exception": false,
          "start_time": "2021-03-24T10:36:19.333238",
          "status": "completed"
        },
        "tags": [],
        "id": "9pkDPL7mZD_n"
      },
      "cell_type": "markdown",
      "source": [
        "## 3.4. Conscientious Personality\n"
      ]
    },
    {
      "metadata": {
        "execution": {
          "iopub.execute_input": "2021-03-24T10:36:19.787306Z",
          "iopub.status.busy": "2021-03-24T10:36:19.711304Z",
          "iopub.status.idle": "2021-03-24T10:36:19.834984Z",
          "shell.execute_reply": "2021-03-24T10:36:19.834327Z"
        },
        "papermill": {
          "duration": 0.264121,
          "end_time": "2021-03-24T10:36:19.835201",
          "exception": false,
          "start_time": "2021-03-24T10:36:19.57108",
          "status": "completed"
        },
        "tags": [],
        "trusted": true,
        "id": "ogcmGdB-ZD_n"
      },
      "cell_type": "code",
      "source": [
        "CP_lst = ['CSN1','CSN2','CSN3','CSN4','CSN5','CSN6','CSN7','CSN8','CSN9','CSN10']\n",
        "CP_df = continents.groupby([\"region\"])[CP_lst].count()\n",
        "CP_df.columns = ['I am always prepared','I leave my belongings around',\n",
        "                'I pay attention to details','I make a mess of things',\n",
        "                'I get chores done right away','I often forget to put things back in their proper place',\n",
        "                'I like order','I shirk my duties',\n",
        "                'I follow a schedule','I am exacting in my work']\n",
        "CP_df = CP_df.loc[['Africa','Americas','Asia','Europe','Oceania'], :]\n",
        "CP_df = CP_df.T\n",
        "\n",
        "CP_df[\"World\"] = CP_df.sum(axis=1)\n",
        "CP_df = CP_df.sort_values(by=\"World\", ascending=True)\n",
        "CP_df[\"Min\"] = CP_df.min(axis=1)\n",
        "CP_df[\"Max\"] = CP_df.max(axis=1)"
      ],
      "execution_count": null,
      "outputs": []
    },
    {
      "metadata": {
        "execution": {
          "iopub.execute_input": "2021-03-24T10:36:20.001486Z",
          "iopub.status.busy": "2021-03-24T10:36:20.000164Z",
          "iopub.status.idle": "2021-03-24T10:36:20.386385Z",
          "shell.execute_reply": "2021-03-24T10:36:20.385649Z"
        },
        "papermill": {
          "duration": 0.472618,
          "end_time": "2021-03-24T10:36:20.386537",
          "exception": false,
          "start_time": "2021-03-24T10:36:19.913919",
          "status": "completed"
        },
        "tags": [],
        "trusted": true,
        "id": "s3eY1lMLZD_o"
      },
      "cell_type": "code",
      "source": [
        "# Setting up figure and axes\n",
        "fig = plt.figure(figsize=(10,5)) # create figure\n",
        "gs = fig.add_gridspec(1, 1)\n",
        "gs.update(wspace=0, hspace=0)\n",
        "ax0 = fig.add_subplot(gs[0, 0])\n",
        "\n",
        "# Change background color\n",
        "background_color = \"#fbfbfb\"\n",
        "fig.patch.set_facecolor(background_color) # figure background color\n",
        "ax0.set_facecolor(background_color) # axes background color\n",
        "\n",
        "y_dummy = np.arange(1,len(CP_df.index)+1)\n",
        "\n",
        "ax0.hlines(y=y_dummy, xmin=CP_df[\"Min\"], xmax=CP_df[\"Max\"], color='grey', alpha=0.4, zorder=3)\n",
        "ax0.scatter(CP_df['World'], y_dummy, color='red', label='World')\n",
        "ax0.scatter(CP_df['Africa'], y_dummy, color='green', label='Africa')\n",
        "ax0.scatter(CP_df['Americas'], y_dummy, color='blue', label='Americas')\n",
        "ax0.scatter(CP_df['Asia'], y_dummy, color='orange', label='Asia')\n",
        "ax0.scatter(CP_df['Europe'], y_dummy, color='skyblue', label='Europe')\n",
        "ax0.scatter(CP_df['Oceania'], y_dummy, color='magenta', label='Oceania')\n",
        "\n",
        "y_label = list(CP_df.index)\n",
        "y_label.insert(0, \"\")\n",
        "ax0.yaxis.set_major_locator(mtick.MultipleLocator(1))\n",
        "ax0.set_yticklabels(y_label)\n",
        "ax0.set_xticklabels([])\n",
        "ax0.tick_params(bottom=False)\n",
        "\n",
        "ax0.text(-100, 14,\n",
        "         'Visualization Conscientious Personality traits across Countries (by Continent)',\n",
        "         fontsize=20, fontweight='bold', fontfamily='serif')\n",
        "\n",
        "\n",
        "\n",
        "ax0.legend(loc='lower center', ncol=7, bbox_to_anchor=(0.53, -0.1))\n",
        "\n",
        "for s in [\"top\",\"right\", \"left\", \"bottom\"]:\n",
        "    ax0.spines[s].set_visible(False)"
      ],
      "execution_count": null,
      "outputs": []
    },
    {
      "metadata": {
        "execution": {
          "iopub.execute_input": "2021-03-24T10:36:20.573628Z",
          "iopub.status.busy": "2021-03-24T10:36:20.572391Z",
          "iopub.status.idle": "2021-03-24T10:36:21.165734Z",
          "shell.execute_reply": "2021-03-24T10:36:21.164987Z"
        },
        "papermill": {
          "duration": 0.698759,
          "end_time": "2021-03-24T10:36:21.165896",
          "exception": false,
          "start_time": "2021-03-24T10:36:20.467137",
          "status": "completed"
        },
        "tags": [],
        "trusted": true,
        "id": "C5kserE5ZD_o"
      },
      "cell_type": "code",
      "source": [
        "display(continents[['CSN1','CSN2','CSN3','CSN4','CSN5','CSN6','CSN7','CSN8','CSN9','CSN10','region']].groupby(['region']).agg([\"min\",\"max\",'mean','sum']).style.background_gradient(cmap=\"GnBu\"))"
      ],
      "execution_count": null,
      "outputs": []
    },
    {
      "metadata": {
        "execution": {
          "iopub.execute_input": "2021-03-24T10:36:21.354398Z",
          "iopub.status.busy": "2021-03-24T10:36:21.353624Z",
          "iopub.status.idle": "2021-03-24T10:46:06.049087Z",
          "shell.execute_reply": "2021-03-24T10:46:06.049658Z"
        },
        "papermill": {
          "duration": 584.80253,
          "end_time": "2021-03-24T10:46:06.04986",
          "exception": false,
          "start_time": "2021-03-24T10:36:21.24733",
          "status": "completed"
        },
        "tags": [],
        "trusted": true,
        "id": "N8QhV0WYZD_o"
      },
      "cell_type": "code",
      "source": [
        "continents[['CSN1','CSN2','CSN3','CSN4','CSN5','CSN6','CSN7','CSN8','CSN9','CSN10','dateload','region']].groupby(['region']).agg([\"sum\"]).plot(kind=\"line\",color =[\"orange\",\"blue\",\"green\",'red','magenta','pink','skyblue','yellow','purple','black'])\n",
        "plt.title(\"Sum : Conscientious Personality traits across Countries (by Continent)\", fontsize=20)\n",
        "plt.ylabel(\"Conscientious Personality\",fontsize=10)\n",
        "plt.xlabel(\" \")\n",
        "plt.xticks(rotation=90)\n",
        "plt.show()"
      ],
      "execution_count": null,
      "outputs": []
    },
    {
      "metadata": {
        "_kg_hide-input": true,
        "_kg_hide-output": true,
        "papermill": {
          "duration": 0.082441,
          "end_time": "2021-03-24T10:46:06.215842",
          "exception": false,
          "start_time": "2021-03-24T10:46:06.133401",
          "status": "completed"
        },
        "tags": [],
        "trusted": true,
        "id": "_ZOAcpuBZD_p"
      },
      "cell_type": "code",
      "source": [],
      "execution_count": null,
      "outputs": []
    },
    {
      "metadata": {
        "papermill": {
          "duration": 0.081138,
          "end_time": "2021-03-24T10:46:06.378759",
          "exception": false,
          "start_time": "2021-03-24T10:46:06.297621",
          "status": "completed"
        },
        "tags": [],
        "id": "J-EgtQ-QZD_p"
      },
      "cell_type": "markdown",
      "source": [
        "## 3.5. Open Personality"
      ]
    },
    {
      "metadata": {
        "execution": {
          "iopub.execute_input": "2021-03-24T10:46:06.609872Z",
          "iopub.status.busy": "2021-03-24T10:46:06.609181Z",
          "iopub.status.idle": "2021-03-24T10:46:06.731022Z",
          "shell.execute_reply": "2021-03-24T10:46:06.732412Z"
        },
        "papermill": {
          "duration": 0.271965,
          "end_time": "2021-03-24T10:46:06.732747",
          "exception": false,
          "start_time": "2021-03-24T10:46:06.460782",
          "status": "completed"
        },
        "tags": [],
        "trusted": true,
        "id": "bdXPPIjNZD_p"
      },
      "cell_type": "code",
      "source": [
        "OP_lst = ['OPN1','OPN2','OPN3','OPN4','OPN5','OPN6','OPN7','OPN8','OPN9','OPN10']\n",
        "OP_df = continents.groupby([\"region\"])[OP_lst].count()\n",
        "OP_df.columns = ['I have a rich vocabulary','I have difficulty understanding abstract ideas',\n",
        "                'I have a vivid imagination','I am not interested in abstract ideas',\n",
        "                'I have excellent ideas','I do not have a good imagination',\n",
        "                'I am quick to understand things','I use difficult words',\n",
        "                'I spend time reflecting on things','I am full of ideas']\n",
        "OP_df = OP_df.loc[['Africa','Americas','Asia','Europe','Oceania'], :]\n",
        "OP_df = OP_df.T\n",
        "\n",
        "OP_df[\"World\"] = OP_df.sum(axis=1)\n",
        "OP_df = OP_df.sort_values(by=\"World\", ascending=True)\n",
        "OP_df[\"Min\"] = OP_df.min(axis=1)\n",
        "OP_df[\"Max\"] = OP_df.max(axis=1)"
      ],
      "execution_count": null,
      "outputs": []
    },
    {
      "metadata": {
        "execution": {
          "iopub.execute_input": "2021-03-24T10:46:06.909841Z",
          "iopub.status.busy": "2021-03-24T10:46:06.909055Z",
          "iopub.status.idle": "2021-03-24T10:46:07.297864Z",
          "shell.execute_reply": "2021-03-24T10:46:07.297259Z"
        },
        "papermill": {
          "duration": 0.478197,
          "end_time": "2021-03-24T10:46:07.29803",
          "exception": false,
          "start_time": "2021-03-24T10:46:06.819833",
          "status": "completed"
        },
        "tags": [],
        "trusted": true,
        "id": "-JTULgbFZD_p"
      },
      "cell_type": "code",
      "source": [
        "# Setting up figure and axes\n",
        "fig = plt.figure(figsize=(10,5)) # create figure\n",
        "gs = fig.add_gridspec(1, 1)\n",
        "gs.update(wspace=0, hspace=0)\n",
        "ax0 = fig.add_subplot(gs[0, 0])\n",
        "\n",
        "# Change background color\n",
        "background_color = \"#fbfbfb\"\n",
        "fig.patch.set_facecolor(background_color) # figure background color\n",
        "ax0.set_facecolor(background_color) # axes background color\n",
        "\n",
        "y_dummy = np.arange(1,len(OP_df.index)+1)\n",
        "\n",
        "ax0.hlines(y=y_dummy, xmin=OP_df[\"Min\"], xmax=OP_df[\"Max\"], color='grey', alpha=0.4, zorder=3)\n",
        "ax0.scatter(OP_df['World'], y_dummy, color='red', label='World')\n",
        "ax0.scatter(OP_df['Africa'], y_dummy, color='green', label='Africa')\n",
        "ax0.scatter(OP_df['Americas'], y_dummy, color='blue', label='Americas')\n",
        "ax0.scatter(OP_df['Asia'], y_dummy, color='orange', label='Asia')\n",
        "ax0.scatter(OP_df['Europe'], y_dummy, color='skyblue', label='Europe')\n",
        "ax0.scatter(OP_df['Oceania'], y_dummy, color='magenta', label='Oceania')\n",
        "\n",
        "y_label = list(OP_df.index)\n",
        "y_label.insert(0, \"\")\n",
        "ax0.yaxis.set_major_locator(mtick.MultipleLocator(1))\n",
        "ax0.set_yticklabels(y_label)\n",
        "ax0.set_xticklabels([])\n",
        "ax0.tick_params(bottom=False)\n",
        "\n",
        "ax0.text(-100, 14,\n",
        "         'Visualization Open Personality traits across Countries (by Continent)',\n",
        "         fontsize=20, fontweight='bold', fontfamily='serif')\n",
        "\n",
        "\n",
        "\n",
        "ax0.legend(loc='lower center', ncol=7, bbox_to_anchor=(0.53, -0.1))\n",
        "\n",
        "for s in [\"top\",\"right\", \"left\", \"bottom\"]:\n",
        "    ax0.spines[s].set_visible(False)"
      ],
      "execution_count": null,
      "outputs": []
    },
    {
      "metadata": {
        "execution": {
          "iopub.execute_input": "2021-03-24T10:46:07.501338Z",
          "iopub.status.busy": "2021-03-24T10:46:07.500601Z",
          "iopub.status.idle": "2021-03-24T10:46:08.135937Z",
          "shell.execute_reply": "2021-03-24T10:46:08.136518Z"
        },
        "papermill": {
          "duration": 0.748807,
          "end_time": "2021-03-24T10:46:08.136744",
          "exception": false,
          "start_time": "2021-03-24T10:46:07.387937",
          "status": "completed"
        },
        "tags": [],
        "trusted": true,
        "id": "eaiQdwIIZD_p"
      },
      "cell_type": "code",
      "source": [
        "display(continents[['OPN1','OPN2','OPN3','OPN4','OPN5','OPN6','OPN7','OPN8','OPN9','OPN10','region']].groupby(['region']).agg([\"min\",\"max\",'mean','sum']).style.background_gradient(cmap=\"GnBu\"))"
      ],
      "execution_count": null,
      "outputs": []
    },
    {
      "metadata": {
        "_kg_hide-input": false,
        "_kg_hide-output": false,
        "execution": {
          "iopub.execute_input": "2021-03-24T10:46:08.342495Z",
          "iopub.status.busy": "2021-03-24T10:46:08.341675Z",
          "iopub.status.idle": "2021-03-24T10:55:51.246632Z",
          "shell.execute_reply": "2021-03-24T10:55:51.247169Z"
        },
        "papermill": {
          "duration": 583.021326,
          "end_time": "2021-03-24T10:55:51.247368",
          "exception": false,
          "start_time": "2021-03-24T10:46:08.226042",
          "status": "completed"
        },
        "tags": [],
        "trusted": true,
        "id": "kjxR5CigZD_q"
      },
      "cell_type": "code",
      "source": [
        "continents[['OPN1','OPN2','OPN3','OPN4','OPN5','OPN6','OPN7','OPN8','OPN9','OPN10','dateload','region']].groupby(['region']).agg([\"sum\"]).plot(kind=\"line\",color =[\"orange\",\"blue\",\"green\",'red','magenta','pink','skyblue','yellow','purple','black'])\n",
        "plt.title(\"Sum : Open Personality traits across Countries (by Continent)\", fontsize=20)\n",
        "plt.ylabel(\"Open Personality\",fontsize=10)\n",
        "plt.xlabel(\" \")\n",
        "plt.xticks(rotation=90)\n",
        "plt.show()"
      ],
      "execution_count": null,
      "outputs": []
    },
    {
      "metadata": {
        "_kg_hide-input": true,
        "_kg_hide-output": true,
        "papermill": {
          "duration": 0.08935,
          "end_time": "2021-03-24T10:55:51.424779",
          "exception": false,
          "start_time": "2021-03-24T10:55:51.335429",
          "status": "completed"
        },
        "tags": [],
        "trusted": true,
        "id": "dkDckOg7ZD_r"
      },
      "cell_type": "code",
      "source": [],
      "execution_count": null,
      "outputs": []
    },
    {
      "metadata": {
        "papermill": {
          "duration": 0.088642,
          "end_time": "2021-03-24T10:55:51.601425",
          "exception": false,
          "start_time": "2021-03-24T10:55:51.512783",
          "status": "completed"
        },
        "tags": [],
        "id": "RP2gqYXEZD_r"
      },
      "cell_type": "markdown",
      "source": [
        "# 4.Clustering\n",
        "\n",
        "Reference : https://www.kaggle.com/akdagmelih/five-personality-clusters-k-means"
      ]
    },
    {
      "metadata": {
        "execution": {
          "iopub.execute_input": "2021-03-24T10:55:51.781538Z",
          "iopub.status.busy": "2021-03-24T10:55:51.780821Z",
          "iopub.status.idle": "2021-03-24T10:55:52.91991Z",
          "shell.execute_reply": "2021-03-24T10:55:52.920494Z"
        },
        "papermill": {
          "duration": 1.230993,
          "end_time": "2021-03-24T10:55:52.920692",
          "exception": false,
          "start_time": "2021-03-24T10:55:51.689699",
          "status": "completed"
        },
        "tags": [],
        "trusted": true,
        "id": "j3d1b7L-ZD_r"
      },
      "cell_type": "code",
      "source": [
        "X=data.copy()\n",
        "X.drop(X.columns[50:107], axis=1, inplace=True)\n",
        "X.drop(X.columns[51:], axis=1, inplace=True)"
      ],
      "execution_count": null,
      "outputs": []
    },
    {
      "metadata": {
        "papermill": {
          "duration": 0.088727,
          "end_time": "2021-03-24T10:55:53.099065",
          "exception": false,
          "start_time": "2021-03-24T10:55:53.010338",
          "status": "completed"
        },
        "tags": [],
        "id": "RBs1m7M5ZD_r"
      },
      "cell_type": "markdown",
      "source": [
        "## 4.1 K-means\n",
        "\n",
        "[K-means](http://https//www.analyticsvidhya.com/blog/2019/08/comprehensive-guide-k-means-clustering/) is a centroid-based algorithm, or a distance-based algorithm, where we calculate the distances to assign a point to a cluster. In K-Means, each cluster is associated with a centroid."
      ]
    },
    {
      "metadata": {
        "execution": {
          "iopub.execute_input": "2021-03-24T10:55:53.282713Z",
          "iopub.status.busy": "2021-03-24T10:55:53.281849Z",
          "iopub.status.idle": "2021-03-24T10:56:40.249536Z",
          "shell.execute_reply": "2021-03-24T10:56:40.250089Z"
        },
        "papermill": {
          "duration": 47.061933,
          "end_time": "2021-03-24T10:56:40.250358",
          "exception": false,
          "start_time": "2021-03-24T10:55:53.188425",
          "status": "completed"
        },
        "tags": [],
        "trusted": true,
        "id": "dcEIu8FxZD_s"
      },
      "cell_type": "code",
      "source": [
        "# Creating K-means Cluster Model\n",
        "from sklearn.cluster import KMeans\n",
        "\n",
        "df_model = X.drop('country', axis=1)\n",
        "\n",
        "#fit model\n",
        "kmeans = KMeans(n_clusters=5)\n",
        "k_fit = kmeans.fit(df_model)"
      ],
      "execution_count": null,
      "outputs": []
    },
    {
      "metadata": {
        "execution": {
          "iopub.execute_input": "2021-03-24T10:56:40.433599Z",
          "iopub.status.busy": "2021-03-24T10:56:40.432834Z",
          "iopub.status.idle": "2021-03-24T10:56:40.460543Z",
          "shell.execute_reply": "2021-03-24T10:56:40.459874Z"
        },
        "papermill": {
          "duration": 0.121352,
          "end_time": "2021-03-24T10:56:40.460697",
          "exception": false,
          "start_time": "2021-03-24T10:56:40.339345",
          "status": "completed"
        },
        "tags": [],
        "trusted": true,
        "id": "3Pvy5U0dZD_s"
      },
      "cell_type": "code",
      "source": [
        "# Predicting the Clusters\n",
        "pd.options.display.max_columns = 10\n",
        "predictions = k_fit.labels_\n",
        "df_model['Clusters'] = predictions\n",
        "df_model.head()"
      ],
      "execution_count": null,
      "outputs": []
    },
    {
      "metadata": {
        "execution": {
          "iopub.execute_input": "2021-03-24T10:56:40.669206Z",
          "iopub.status.busy": "2021-03-24T10:56:40.668232Z",
          "iopub.status.idle": "2021-03-24T10:56:41.203614Z",
          "shell.execute_reply": "2021-03-24T10:56:41.203026Z"
        },
        "papermill": {
          "duration": 0.654396,
          "end_time": "2021-03-24T10:56:41.203773",
          "exception": false,
          "start_time": "2021-03-24T10:56:40.549377",
          "status": "completed"
        },
        "tags": [],
        "trusted": true,
        "id": "7AwRdgr5ZD_s"
      },
      "cell_type": "code",
      "source": [
        "# Summing up the different questions groups\n",
        "col_list = list(df_model)\n",
        "ext = col_list[0:10]\n",
        "est = col_list[10:20]\n",
        "agr = col_list[20:30]\n",
        "csn = col_list[30:40]\n",
        "opn = col_list[40:50]\n",
        "\n",
        "data_sums = pd.DataFrame()\n",
        "data_sums['extroversion'] = df_model[ext].sum(axis=1)/10\n",
        "data_sums['neurotic'] = df_model[est].sum(axis=1)/10\n",
        "data_sums['agreeable'] = df_model[agr].sum(axis=1)/10\n",
        "data_sums['conscientious'] = df_model[csn].sum(axis=1)/10\n",
        "data_sums['open'] = df_model[opn].sum(axis=1)/10\n",
        "data_sums['clusters'] = predictions\n",
        "data_sums.groupby('clusters').mean()"
      ],
      "execution_count": null,
      "outputs": []
    },
    {
      "metadata": {
        "_kg_hide-input": true,
        "_kg_hide-output": true,
        "trusted": true,
        "id": "Rtabcak7ZD_s"
      },
      "cell_type": "code",
      "source": [],
      "execution_count": null,
      "outputs": []
    },
    {
      "metadata": {
        "papermill": {
          "duration": 0.089983,
          "end_time": "2021-03-24T10:56:41.384536",
          "exception": false,
          "start_time": "2021-03-24T10:56:41.294553",
          "status": "completed"
        },
        "tags": [],
        "id": "7bPZWmgsZD_t"
      },
      "cell_type": "markdown",
      "source": [
        "## 4.2 PCA\n",
        "\n",
        "[Principal Component Analysis (PCA)](https://rpubs.com/cyobero/pca-clustering#:~:text=Principal%20Component%20Analysis%20(PCA)%20is%20an%20unsupervised%20machine%20learning%20technique,Visualizing%20High%2DDimensional) is an unsupervised machine learning technique that attempts to derive a set of low-dimensional set of features from a much larger set while still preserving as much variance as possible."
      ]
    },
    {
      "metadata": {
        "execution": {
          "iopub.execute_input": "2021-03-24T10:56:41.576662Z",
          "iopub.status.busy": "2021-03-24T10:56:41.575014Z",
          "iopub.status.idle": "2021-03-24T10:57:01.530881Z",
          "shell.execute_reply": "2021-03-24T10:57:01.529429Z"
        },
        "papermill": {
          "duration": 20.055087,
          "end_time": "2021-03-24T10:57:01.531057",
          "exception": false,
          "start_time": "2021-03-24T10:56:41.47597",
          "status": "completed"
        },
        "tags": [],
        "trusted": true,
        "id": "qIWWKonVZD_t"
      },
      "cell_type": "code",
      "source": [
        "# In order to visualize in 2D graph I will use PCA\n",
        "from sklearn.decomposition import PCA\n",
        "\n",
        "pca = PCA(n_components=2)\n",
        "pca_fit = pca.fit_transform(df_model)\n",
        "\n",
        "df_pca = pd.DataFrame(data=pca_fit, columns=['PCA1', 'PCA2'])\n",
        "df_pca['Clusters'] = predictions\n",
        "df_pca.head()"
      ],
      "execution_count": null,
      "outputs": []
    },
    {
      "metadata": {
        "execution": {
          "iopub.execute_input": "2021-03-24T10:57:01.721957Z",
          "iopub.status.busy": "2021-03-24T10:57:01.721105Z",
          "iopub.status.idle": "2021-03-24T10:57:34.851393Z",
          "shell.execute_reply": "2021-03-24T10:57:34.851944Z"
        },
        "papermill": {
          "duration": 33.230829,
          "end_time": "2021-03-24T10:57:34.852156",
          "exception": false,
          "start_time": "2021-03-24T10:57:01.621327",
          "status": "completed"
        },
        "tags": [],
        "trusted": true,
        "id": "BSRY__nOZD_t"
      },
      "cell_type": "code",
      "source": [
        "plt.figure(figsize=(10,10))\n",
        "sns.scatterplot(data=df_pca, x='PCA1', y='PCA2', hue='Clusters', palette='tab10', alpha=0.8)\n",
        "plt.title('Personality Clusters after PCA');"
      ],
      "execution_count": null,
      "outputs": []
    },
    {
      "metadata": {
        "_kg_hide-input": true,
        "_kg_hide-output": true,
        "trusted": true,
        "id": "4R25doYdZD_u"
      },
      "cell_type": "code",
      "source": [],
      "execution_count": null,
      "outputs": []
    },
    {
      "metadata": {
        "papermill": {
          "duration": 0.106554,
          "end_time": "2021-03-24T10:57:35.068794",
          "exception": false,
          "start_time": "2021-03-24T10:57:34.96224",
          "status": "completed"
        },
        "tags": [],
        "id": "ULLGiHKVZD_u"
      },
      "cell_type": "markdown",
      "source": [
        "## 4.3 TSNE\n",
        "\n",
        "[t-Distributed Stochastic Neighbor Embedding (t-SNE)](https://www.datacamp.com/community/tutorials/introduction-t-sne) is a non-linear technique for dimensionality reduction that is particularly well suited for the visualization of high-dimensional datasets. It is extensively applied in image processing, NLP, genomic data and speech processing."
      ]
    },
    {
      "metadata": {
        "execution": {
          "iopub.execute_input": "2021-03-24T10:57:35.287806Z",
          "iopub.status.busy": "2021-03-24T10:57:35.286686Z",
          "iopub.status.idle": "2021-03-24T16:06:14.825949Z",
          "shell.execute_reply": "2021-03-24T16:06:14.826617Z"
        },
        "papermill": {
          "duration": 18519.654142,
          "end_time": "2021-03-24T16:06:14.82699",
          "exception": false,
          "start_time": "2021-03-24T10:57:35.172848",
          "status": "completed"
        },
        "tags": [],
        "trusted": true,
        "id": "x33rGoh8ZD_u"
      },
      "cell_type": "code",
      "source": [
        "from sklearn.manifold import TSNE\n",
        "\n",
        "Xtsne = TSNE(n_components=2).fit_transform(df_pca)\n",
        "dftsne = pd.DataFrame(data=Xtsne , columns = ['x1','x2'])\n",
        "dftsne['cluster'] = predictions\n",
        "dftsne.head()"
      ],
      "execution_count": null,
      "outputs": []
    },
    {
      "metadata": {
        "trusted": true,
        "id": "L6njCol_ZD_u"
      },
      "cell_type": "code",
      "source": [
        "plt.figure(figsize=(10,10))\n",
        "sns.scatterplot(data=dftsne,x='x1',y='x2',hue='cluster',legend=\"full\", palette='tab10', alpha=0.8)\n",
        "plt.title('Personality Clusters Visualized on TSNE 2D');"
      ],
      "execution_count": null,
      "outputs": []
    },
    {
      "metadata": {
        "_kg_hide-input": true,
        "_kg_hide-output": true,
        "papermill": {
          "duration": 0.112123,
          "end_time": "2021-03-24T16:07:21.746394",
          "exception": false,
          "start_time": "2021-03-24T16:07:21.634271",
          "status": "completed"
        },
        "tags": [],
        "trusted": true,
        "id": "b25zD-LFZD_u"
      },
      "cell_type": "code",
      "source": [],
      "execution_count": null,
      "outputs": []
    },
    {
      "metadata": {
        "papermill": {
          "duration": 0.113376,
          "end_time": "2021-03-24T16:07:21.97518",
          "exception": false,
          "start_time": "2021-03-24T16:07:21.861804",
          "status": "completed"
        },
        "tags": [],
        "id": "Qqly7JHaZD_u"
      },
      "cell_type": "markdown",
      "source": [
        "References :\n",
        "* [1] https://www.123test.com/big-five-personality-theory/\n",
        "* [2] https://openpsychometrics.org/tests/IPIP-BFFM/\n",
        "* [3] Goldberg, Lewis R. \"The development of markers for the Big-Five factor structure.\" Psychological assessment 4.1 (1992): 26.\n",
        "* [4] https://www.kaggle.com/akdagmelih/five-personality-clusters-k-means\n",
        "* [5] http://https//www.analyticsvidhya.com/blog/2019/08/comprehensive-guide-k-means-clustering/\n",
        "* [6] https://www.datacamp.com/community/tutorials/introduction-t-sne\n",
        "* [7] Viz Ref: https://www.kaggle.com/dwin183287/kagglers-seen-by-continents\n"
      ]
    }
  ],
  "metadata": {
    "kernelspec": {
      "language": "python",
      "display_name": "Python 3",
      "name": "python3"
    },
    "language_info": {
      "pygments_lexer": "ipython3",
      "nbconvert_exporter": "python",
      "version": "3.6.4",
      "file_extension": ".py",
      "codemirror_mode": {
        "name": "ipython",
        "version": 3
      },
      "name": "python",
      "mimetype": "text/x-python"
    },
    "colab": {
      "name": "Big Five Personality Test + Clustering",
      "provenance": []
    }
  },
  "nbformat": 4,
  "nbformat_minor": 0
}